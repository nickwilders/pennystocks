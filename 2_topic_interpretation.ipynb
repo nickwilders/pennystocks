{
 "cells": [
  {
   "cell_type": "code",
   "execution_count": 2,
   "metadata": {},
   "outputs": [],
   "source": [
    "import matplotlib.pyplot as plt\n",
    "\n",
    "import pandas as pd\n",
    "import numpy as np\n",
    "\n",
    "import seaborn as sns\n",
    "\n",
    "from sklearn.feature_extraction.text import TfidfVectorizer, ENGLISH_STOP_WORDS\n",
    "from sklearn.decomposition import NMF"
   ]
  },
  {
   "cell_type": "code",
   "execution_count": 28,
   "metadata": {},
   "outputs": [],
   "source": [
    "df = pd.read_csv('data/total_tweets.csv')"
   ]
  },
  {
   "cell_type": "code",
   "execution_count": 46,
   "metadata": {},
   "outputs": [
    {
     "name": "stderr",
     "output_type": "stream",
     "text": [
      "<ipython-input-46-1fdde162f564>:1: UserWarning: Boolean Series key will be reindexed to match DataFrame index.\n",
      "  len(df[df['year']==2020][df['screen_name'] == 'AlexDelarge6553'][df['primary_cashtag']=='$SPOM']) / len(df[df['year']==2020][df['screen_name'] == 'AlexDelarge6553'])\n",
      "<ipython-input-46-1fdde162f564>:1: UserWarning: Boolean Series key will be reindexed to match DataFrame index.\n",
      "  len(df[df['year']==2020][df['screen_name'] == 'AlexDelarge6553'][df['primary_cashtag']=='$SPOM']) / len(df[df['year']==2020][df['screen_name'] == 'AlexDelarge6553'])\n"
     ]
    },
    {
     "data": {
      "text/plain": [
       "0.34270863001993734"
      ]
     },
     "execution_count": 46,
     "metadata": {},
     "output_type": "execute_result"
    }
   ],
   "source": [
    "len(df[df['year']==2020][df['screen_name'] == 'AlexDelarge6553'][df['primary_cashtag']=='$SPOM']) / len(df[df['year']==2020][df['screen_name'] == 'AlexDelarge6553'])\n",
    "\n"
   ]
  },
  {
   "cell_type": "code",
   "execution_count": 47,
   "metadata": {
    "scrolled": true
   },
   "outputs": [
    {
     "data": {
      "text/html": [
       "<div>\n",
       "<style scoped>\n",
       "    .dataframe tbody tr th:only-of-type {\n",
       "        vertical-align: middle;\n",
       "    }\n",
       "\n",
       "    .dataframe tbody tr th {\n",
       "        vertical-align: top;\n",
       "    }\n",
       "\n",
       "    .dataframe thead th {\n",
       "        text-align: right;\n",
       "    }\n",
       "</style>\n",
       "<table border=\"1\" class=\"dataframe\">\n",
       "  <thead>\n",
       "    <tr style=\"text-align: right;\">\n",
       "      <th></th>\n",
       "      <th>Unnamed: 0</th>\n",
       "      <th>Unnamed: 0.1</th>\n",
       "      <th>Unnamed: 0.1.1</th>\n",
       "      <th>Unnamed: 0.1.1.1</th>\n",
       "      <th>Unnamed: 0.1.1.1.1</th>\n",
       "      <th>original_index</th>\n",
       "      <th>date</th>\n",
       "      <th>screen_name</th>\n",
       "      <th>tweet</th>\n",
       "      <th>tweet_id</th>\n",
       "      <th>cashtag</th>\n",
       "      <th>hashtag</th>\n",
       "      <th>primary_cashtag</th>\n",
       "      <th>year</th>\n",
       "      <th>month</th>\n",
       "      <th>tokens</th>\n",
       "      <th>Polarity</th>\n",
       "    </tr>\n",
       "  </thead>\n",
       "  <tbody>\n",
       "    <tr>\n",
       "      <th>23464</th>\n",
       "      <td>23464</td>\n",
       "      <td>23464</td>\n",
       "      <td>23464</td>\n",
       "      <td>23464</td>\n",
       "      <td>23464</td>\n",
       "      <td>1.0</td>\n",
       "      <td>2020-11-09 18:50:37</td>\n",
       "      <td>AlexDelarge6553</td>\n",
       "      <td>$hpst!! if you dont know this is the new $rvdo...</td>\n",
       "      <td>1.325873e+18</td>\n",
       "      <td>['$hpst', '$rvdo', '$hpst']</td>\n",
       "      <td>[]</td>\n",
       "      <td>$HPST</td>\n",
       "      <td>2020</td>\n",
       "      <td>11</td>\n",
       "      <td>['dont', 'know', 'new', 'merger', 'coming', 's...</td>\n",
       "      <td>0.500000</td>\n",
       "    </tr>\n",
       "    <tr>\n",
       "      <th>23465</th>\n",
       "      <td>23465</td>\n",
       "      <td>23465</td>\n",
       "      <td>23465</td>\n",
       "      <td>23465</td>\n",
       "      <td>23465</td>\n",
       "      <td>2.0</td>\n",
       "      <td>2020-11-09 01:38:19</td>\n",
       "      <td>AlexDelarge6553</td>\n",
       "      <td>Monday list !1 $spom under radar $spom week2 $...</td>\n",
       "      <td>1.325614e+18</td>\n",
       "      <td>['$spom', '$spom', '$opti', '$gmpw']</td>\n",
       "      <td>[]</td>\n",
       "      <td>$SPOM</td>\n",
       "      <td>2020</td>\n",
       "      <td>11</td>\n",
       "      <td>['monday', 'list', 'radar', 'week', 'massive',...</td>\n",
       "      <td>0.000000</td>\n",
       "    </tr>\n",
       "    <tr>\n",
       "      <th>23466</th>\n",
       "      <td>23466</td>\n",
       "      <td>23466</td>\n",
       "      <td>23466</td>\n",
       "      <td>23466</td>\n",
       "      <td>23466</td>\n",
       "      <td>3.0</td>\n",
       "      <td>2020-11-09 17:42:19</td>\n",
       "      <td>AlexDelarge6553</td>\n",
       "      <td>$tsts massive 1000% gains!!! https://t.co/xTRv...</td>\n",
       "      <td>1.325856e+18</td>\n",
       "      <td>['$tsts']</td>\n",
       "      <td>[]</td>\n",
       "      <td>$TSTS</td>\n",
       "      <td>2020</td>\n",
       "      <td>11</td>\n",
       "      <td>['massive', 'gains']</td>\n",
       "      <td>0.000000</td>\n",
       "    </tr>\n",
       "    <tr>\n",
       "      <th>23467</th>\n",
       "      <td>23467</td>\n",
       "      <td>23467</td>\n",
       "      <td>23467</td>\n",
       "      <td>23467</td>\n",
       "      <td>23467</td>\n",
       "      <td>4.0</td>\n",
       "      <td>2020-11-09 18:23:51</td>\n",
       "      <td>AlexDelarge6553</td>\n",
       "      <td>$spom earning coming any day now!! there is a ...</td>\n",
       "      <td>1.325867e+18</td>\n",
       "      <td>['$spom']</td>\n",
       "      <td>[]</td>\n",
       "      <td>$SPOM</td>\n",
       "      <td>2020</td>\n",
       "      <td>11</td>\n",
       "      <td>['earning', 'coming', 'day', 'reason']</td>\n",
       "      <td>0.000000</td>\n",
       "    </tr>\n",
       "    <tr>\n",
       "      <th>23468</th>\n",
       "      <td>23468</td>\n",
       "      <td>23468</td>\n",
       "      <td>23468</td>\n",
       "      <td>23468</td>\n",
       "      <td>23468</td>\n",
       "      <td>6.0</td>\n",
       "      <td>2020-11-09 13:39:10</td>\n",
       "      <td>AlexDelarge6553</td>\n",
       "      <td>$gmpw Is the buy!!! Alert!! load the fuck up!!...</td>\n",
       "      <td>1.325795e+18</td>\n",
       "      <td>['$gmpw']</td>\n",
       "      <td>[]</td>\n",
       "      <td>$GMPW</td>\n",
       "      <td>2020</td>\n",
       "      <td>11</td>\n",
       "      <td>['buy', 'alert', 'load', 'fuck', 'new', 'week'...</td>\n",
       "      <td>-0.162879</td>\n",
       "    </tr>\n",
       "    <tr>\n",
       "      <th>...</th>\n",
       "      <td>...</td>\n",
       "      <td>...</td>\n",
       "      <td>...</td>\n",
       "      <td>...</td>\n",
       "      <td>...</td>\n",
       "      <td>...</td>\n",
       "      <td>...</td>\n",
       "      <td>...</td>\n",
       "      <td>...</td>\n",
       "      <td>...</td>\n",
       "      <td>...</td>\n",
       "      <td>...</td>\n",
       "      <td>...</td>\n",
       "      <td>...</td>\n",
       "      <td>...</td>\n",
       "      <td>...</td>\n",
       "      <td>...</td>\n",
       "    </tr>\n",
       "    <tr>\n",
       "      <th>37638</th>\n",
       "      <td>37638</td>\n",
       "      <td>37638</td>\n",
       "      <td>37638</td>\n",
       "      <td>37638</td>\n",
       "      <td>37638</td>\n",
       "      <td>39.0</td>\n",
       "      <td>2019-11-08 20:54:18</td>\n",
       "      <td>AlexDelarge6553</td>\n",
       "      <td>I would like to say my boasting of the amazing...</td>\n",
       "      <td>1.192908e+18</td>\n",
       "      <td>['$vrus']</td>\n",
       "      <td>[]</td>\n",
       "      <td>$VRUS</td>\n",
       "      <td>2019</td>\n",
       "      <td>11</td>\n",
       "      <td>['like', 'boasting', 'amazing', 'tasting', 'ic...</td>\n",
       "      <td>0.550000</td>\n",
       "    </tr>\n",
       "    <tr>\n",
       "      <th>37639</th>\n",
       "      <td>37639</td>\n",
       "      <td>37639</td>\n",
       "      <td>37639</td>\n",
       "      <td>37639</td>\n",
       "      <td>37639</td>\n",
       "      <td>40.0</td>\n",
       "      <td>2019-11-07 20:03:27</td>\n",
       "      <td>AlexDelarge6553</td>\n",
       "      <td>@ROBERTDSCHROED2 I did my part bought 1 millio...</td>\n",
       "      <td>1.192533e+18</td>\n",
       "      <td>['$vrus']</td>\n",
       "      <td>[]</td>\n",
       "      <td>$VRUS</td>\n",
       "      <td>2019</td>\n",
       "      <td>11</td>\n",
       "      <td>['bought', 'million', 'shares', 'today', 'lets...</td>\n",
       "      <td>0.000000</td>\n",
       "    </tr>\n",
       "    <tr>\n",
       "      <th>37640</th>\n",
       "      <td>37640</td>\n",
       "      <td>37640</td>\n",
       "      <td>37640</td>\n",
       "      <td>37640</td>\n",
       "      <td>37640</td>\n",
       "      <td>42.0</td>\n",
       "      <td>2019-11-07 17:37:37</td>\n",
       "      <td>AlexDelarge6553</td>\n",
       "      <td>$vrus glad grabbed a extra million shares. 11%...</td>\n",
       "      <td>1.192496e+18</td>\n",
       "      <td>['$vrus']</td>\n",
       "      <td>[]</td>\n",
       "      <td>$VRUS</td>\n",
       "      <td>2019</td>\n",
       "      <td>11</td>\n",
       "      <td>['glad', 'grabbed', 'extra', 'million', 'share...</td>\n",
       "      <td>0.203125</td>\n",
       "    </tr>\n",
       "    <tr>\n",
       "      <th>37641</th>\n",
       "      <td>37641</td>\n",
       "      <td>37641</td>\n",
       "      <td>37641</td>\n",
       "      <td>37641</td>\n",
       "      <td>37641</td>\n",
       "      <td>46.0</td>\n",
       "      <td>2019-11-08 17:04:09</td>\n",
       "      <td>AlexDelarge6553</td>\n",
       "      <td>Question any $bynd fans out there. https://t.c...</td>\n",
       "      <td>1.192850e+18</td>\n",
       "      <td>['$bynd']</td>\n",
       "      <td>[]</td>\n",
       "      <td>$BYND</td>\n",
       "      <td>2019</td>\n",
       "      <td>11</td>\n",
       "      <td>['question', 'fans']</td>\n",
       "      <td>0.000000</td>\n",
       "    </tr>\n",
       "    <tr>\n",
       "      <th>37642</th>\n",
       "      <td>37642</td>\n",
       "      <td>37642</td>\n",
       "      <td>37642</td>\n",
       "      <td>37642</td>\n",
       "      <td>37642</td>\n",
       "      <td>49.0</td>\n",
       "      <td>2019-11-08 17:26:53</td>\n",
       "      <td>AlexDelarge6553</td>\n",
       "      <td>#bynd $bynd. Who likes beyond meat or impossib...</td>\n",
       "      <td>1.192856e+18</td>\n",
       "      <td>['$bynd']</td>\n",
       "      <td>['#bynd']</td>\n",
       "      <td>$BYND</td>\n",
       "      <td>2019</td>\n",
       "      <td>11</td>\n",
       "      <td>['likes', 'meat', 'impossible', 'burger']</td>\n",
       "      <td>-0.666667</td>\n",
       "    </tr>\n",
       "  </tbody>\n",
       "</table>\n",
       "<p>14179 rows × 17 columns</p>\n",
       "</div>"
      ],
      "text/plain": [
       "       Unnamed: 0  Unnamed: 0.1  Unnamed: 0.1.1  Unnamed: 0.1.1.1  \\\n",
       "23464       23464         23464           23464             23464   \n",
       "23465       23465         23465           23465             23465   \n",
       "23466       23466         23466           23466             23466   \n",
       "23467       23467         23467           23467             23467   \n",
       "23468       23468         23468           23468             23468   \n",
       "...           ...           ...             ...               ...   \n",
       "37638       37638         37638           37638             37638   \n",
       "37639       37639         37639           37639             37639   \n",
       "37640       37640         37640           37640             37640   \n",
       "37641       37641         37641           37641             37641   \n",
       "37642       37642         37642           37642             37642   \n",
       "\n",
       "       Unnamed: 0.1.1.1.1  original_index                 date  \\\n",
       "23464               23464             1.0  2020-11-09 18:50:37   \n",
       "23465               23465             2.0  2020-11-09 01:38:19   \n",
       "23466               23466             3.0  2020-11-09 17:42:19   \n",
       "23467               23467             4.0  2020-11-09 18:23:51   \n",
       "23468               23468             6.0  2020-11-09 13:39:10   \n",
       "...                   ...             ...                  ...   \n",
       "37638               37638            39.0  2019-11-08 20:54:18   \n",
       "37639               37639            40.0  2019-11-07 20:03:27   \n",
       "37640               37640            42.0  2019-11-07 17:37:37   \n",
       "37641               37641            46.0  2019-11-08 17:04:09   \n",
       "37642               37642            49.0  2019-11-08 17:26:53   \n",
       "\n",
       "           screen_name                                              tweet  \\\n",
       "23464  AlexDelarge6553  $hpst!! if you dont know this is the new $rvdo...   \n",
       "23465  AlexDelarge6553  Monday list !1 $spom under radar $spom week2 $...   \n",
       "23466  AlexDelarge6553  $tsts massive 1000% gains!!! https://t.co/xTRv...   \n",
       "23467  AlexDelarge6553  $spom earning coming any day now!! there is a ...   \n",
       "23468  AlexDelarge6553  $gmpw Is the buy!!! Alert!! load the fuck up!!...   \n",
       "...                ...                                                ...   \n",
       "37638  AlexDelarge6553  I would like to say my boasting of the amazing...   \n",
       "37639  AlexDelarge6553  @ROBERTDSCHROED2 I did my part bought 1 millio...   \n",
       "37640  AlexDelarge6553  $vrus glad grabbed a extra million shares. 11%...   \n",
       "37641  AlexDelarge6553  Question any $bynd fans out there. https://t.c...   \n",
       "37642  AlexDelarge6553  #bynd $bynd. Who likes beyond meat or impossib...   \n",
       "\n",
       "           tweet_id                               cashtag    hashtag  \\\n",
       "23464  1.325873e+18           ['$hpst', '$rvdo', '$hpst']         []   \n",
       "23465  1.325614e+18  ['$spom', '$spom', '$opti', '$gmpw']         []   \n",
       "23466  1.325856e+18                             ['$tsts']         []   \n",
       "23467  1.325867e+18                             ['$spom']         []   \n",
       "23468  1.325795e+18                             ['$gmpw']         []   \n",
       "...             ...                                   ...        ...   \n",
       "37638  1.192908e+18                             ['$vrus']         []   \n",
       "37639  1.192533e+18                             ['$vrus']         []   \n",
       "37640  1.192496e+18                             ['$vrus']         []   \n",
       "37641  1.192850e+18                             ['$bynd']         []   \n",
       "37642  1.192856e+18                             ['$bynd']  ['#bynd']   \n",
       "\n",
       "      primary_cashtag  year  month  \\\n",
       "23464           $HPST  2020     11   \n",
       "23465           $SPOM  2020     11   \n",
       "23466           $TSTS  2020     11   \n",
       "23467           $SPOM  2020     11   \n",
       "23468           $GMPW  2020     11   \n",
       "...               ...   ...    ...   \n",
       "37638           $VRUS  2019     11   \n",
       "37639           $VRUS  2019     11   \n",
       "37640           $VRUS  2019     11   \n",
       "37641           $BYND  2019     11   \n",
       "37642           $BYND  2019     11   \n",
       "\n",
       "                                                  tokens  Polarity  \n",
       "23464  ['dont', 'know', 'new', 'merger', 'coming', 's...  0.500000  \n",
       "23465  ['monday', 'list', 'radar', 'week', 'massive',...  0.000000  \n",
       "23466                               ['massive', 'gains']  0.000000  \n",
       "23467             ['earning', 'coming', 'day', 'reason']  0.000000  \n",
       "23468  ['buy', 'alert', 'load', 'fuck', 'new', 'week'... -0.162879  \n",
       "...                                                  ...       ...  \n",
       "37638  ['like', 'boasting', 'amazing', 'tasting', 'ic...  0.550000  \n",
       "37639  ['bought', 'million', 'shares', 'today', 'lets...  0.000000  \n",
       "37640  ['glad', 'grabbed', 'extra', 'million', 'share...  0.203125  \n",
       "37641                               ['question', 'fans']  0.000000  \n",
       "37642          ['likes', 'meat', 'impossible', 'burger'] -0.666667  \n",
       "\n",
       "[14179 rows x 17 columns]"
      ]
     },
     "execution_count": 47,
     "metadata": {},
     "output_type": "execute_result"
    }
   ],
   "source": [
    "df[df['screen_name'] == 'AlexDelarge6553']"
   ]
  },
  {
   "cell_type": "code",
   "execution_count": null,
   "metadata": {},
   "outputs": [],
   "source": [
    "4813"
   ]
  },
  {
   "cell_type": "code",
   "execution_count": 37,
   "metadata": {},
   "outputs": [
    {
     "data": {
      "text/plain": [
       "19924"
      ]
     },
     "execution_count": 37,
     "metadata": {},
     "output_type": "execute_result"
    }
   ],
   "source": [
    "len(vocab)"
   ]
  },
  {
   "cell_type": "code",
   "execution_count": 24,
   "metadata": {},
   "outputs": [
    {
     "data": {
      "text/plain": [
       "0        ['break', 'scanner', 'squeeze', 'retailer', 'm...\n",
       "1                                                       []\n",
       "2         ['china', 'pennies', 'today', 'upside', 'chart']\n",
       "3        ['add', 'vol', 'late', 'day', 'chasers', 'comi...\n",
       "4                                                       []\n",
       "                               ...                        \n",
       "92892    ['decent', 'sell', 'dropped', 'price', 'approx...\n",
       "92893                                                   []\n",
       "92894    ['beginning', 'push', 'marker', 'dropped', 'pe...\n",
       "92895    ['sure', 'oil', 'amp', 'energy', 'companies', ...\n",
       "92896    ['told', 'man', 'energy', 'companies', 'main',...\n",
       "Name: tokens, Length: 92897, dtype: object"
      ]
     },
     "execution_count": 24,
     "metadata": {},
     "output_type": "execute_result"
    }
   ],
   "source": [
    "corpus"
   ]
  },
  {
   "cell_type": "code",
   "execution_count": 26,
   "metadata": {},
   "outputs": [
    {
     "data": {
      "text/plain": [
       "19924"
      ]
     },
     "execution_count": 26,
     "metadata": {},
     "output_type": "execute_result"
    }
   ],
   "source": [
    "len(word_topic_matrix_df)"
   ]
  },
  {
   "cell_type": "code",
   "execution_count": 6,
   "metadata": {},
   "outputs": [
    {
     "data": {
      "text/plain": [
       "92897"
      ]
     },
     "execution_count": 6,
     "metadata": {},
     "output_type": "execute_result"
    }
   ],
   "source": [
    "corpus = df['tokens'].fillna(value='')\n",
    "len(corpus)"
   ]
  },
  {
   "cell_type": "code",
   "execution_count": 7,
   "metadata": {},
   "outputs": [],
   "source": [
    "stop_words = ENGLISH_STOP_WORDS.union(['math'])"
   ]
  },
  {
   "cell_type": "code",
   "execution_count": 8,
   "metadata": {},
   "outputs": [],
   "source": [
    "tfidf = TfidfVectorizer(stop_words=stop_words)\n",
    "\n",
    "tweet_word_matrix = tfidf.fit_transform(corpus)\n",
    "\n",
    "vocab = tfidf.get_feature_names()"
   ]
  },
  {
   "cell_type": "code",
   "execution_count": 27,
   "metadata": {},
   "outputs": [
    {
     "data": {
      "text/plain": [
       "92897"
      ]
     },
     "execution_count": 27,
     "metadata": {},
     "output_type": "execute_result"
    }
   ],
   "source": [
    "len(df)"
   ]
  },
  {
   "cell_type": "markdown",
   "metadata": {},
   "source": [
    "## NMF"
   ]
  },
  {
   "cell_type": "code",
   "execution_count": 11,
   "metadata": {},
   "outputs": [
    {
     "data": {
      "text/plain": [
       "NMF(n_components=6)"
      ]
     },
     "execution_count": 11,
     "metadata": {},
     "output_type": "execute_result"
    }
   ],
   "source": [
    "nmf = NMF(n_components=6)\n",
    "\n",
    "nmf.fit(tweet_word_matrix)"
   ]
  },
  {
   "cell_type": "markdown",
   "metadata": {},
   "source": [
    "#### Tweet/Topic Matrix"
   ]
  },
  {
   "cell_type": "code",
   "execution_count": 12,
   "metadata": {},
   "outputs": [],
   "source": [
    "tweet_topic_matrix = nmf.transform(tweet_word_matrix)"
   ]
  },
  {
   "cell_type": "code",
   "execution_count": 13,
   "metadata": {},
   "outputs": [
    {
     "data": {
      "text/html": [
       "<div>\n",
       "<style scoped>\n",
       "    .dataframe tbody tr th:only-of-type {\n",
       "        vertical-align: middle;\n",
       "    }\n",
       "\n",
       "    .dataframe tbody tr th {\n",
       "        vertical-align: top;\n",
       "    }\n",
       "\n",
       "    .dataframe thead th {\n",
       "        text-align: right;\n",
       "    }\n",
       "</style>\n",
       "<table border=\"1\" class=\"dataframe\">\n",
       "  <thead>\n",
       "    <tr style=\"text-align: right;\">\n",
       "      <th></th>\n",
       "      <th>topic_0</th>\n",
       "      <th>topic_1</th>\n",
       "      <th>topic_2</th>\n",
       "      <th>topic_3</th>\n",
       "      <th>topic_4</th>\n",
       "      <th>topic_5</th>\n",
       "      <th>raw_tweets</th>\n",
       "      <th>clean_tweets</th>\n",
       "      <th>username</th>\n",
       "      <th>tweet_id</th>\n",
       "    </tr>\n",
       "  </thead>\n",
       "  <tbody>\n",
       "    <tr>\n",
       "      <th>0</th>\n",
       "      <td>0.0</td>\n",
       "      <td>0.0</td>\n",
       "      <td>0.0</td>\n",
       "      <td>0.002763</td>\n",
       "      <td>0.031824</td>\n",
       "      <td>0.002887</td>\n",
       "      <td>$JAKK $5 break scanner squeeze retailer mania ...</td>\n",
       "      <td>['break', 'scanner', 'squeeze', 'retailer', 'm...</td>\n",
       "      <td>buysellshort</td>\n",
       "      <td>1.325833e+18</td>\n",
       "    </tr>\n",
       "    <tr>\n",
       "      <th>1</th>\n",
       "      <td>0.0</td>\n",
       "      <td>0.0</td>\n",
       "      <td>0.0</td>\n",
       "      <td>0.000000</td>\n",
       "      <td>0.000000</td>\n",
       "      <td>0.000000</td>\n",
       "      <td>$WTER https://t.co/JVc3CjcG3h</td>\n",
       "      <td>[]</td>\n",
       "      <td>buysellshort</td>\n",
       "      <td>1.324724e+18</td>\n",
       "    </tr>\n",
       "    <tr>\n",
       "      <th>2</th>\n",
       "      <td>0.0</td>\n",
       "      <td>0.0</td>\n",
       "      <td>0.0</td>\n",
       "      <td>0.032559</td>\n",
       "      <td>0.014849</td>\n",
       "      <td>0.000787</td>\n",
       "      <td>$SXTC china pennies on fire today 50% upside o...</td>\n",
       "      <td>['china', 'pennies', 'today', 'upside', 'chart']</td>\n",
       "      <td>buysellshort</td>\n",
       "      <td>1.324393e+18</td>\n",
       "    </tr>\n",
       "    <tr>\n",
       "      <th>3</th>\n",
       "      <td>0.0</td>\n",
       "      <td>0.0</td>\n",
       "      <td>0.0</td>\n",
       "      <td>0.003789</td>\n",
       "      <td>0.030600</td>\n",
       "      <td>0.003233</td>\n",
       "      <td>$SNDL add this vol i see those late day chaser...</td>\n",
       "      <td>['add', 'vol', 'late', 'day', 'chasers', 'comi...</td>\n",
       "      <td>buysellshort</td>\n",
       "      <td>1.324449e+18</td>\n",
       "    </tr>\n",
       "    <tr>\n",
       "      <th>4</th>\n",
       "      <td>0.0</td>\n",
       "      <td>0.0</td>\n",
       "      <td>0.0</td>\n",
       "      <td>0.000000</td>\n",
       "      <td>0.000000</td>\n",
       "      <td>0.000000</td>\n",
       "      <td>$SNDL https://t.co/BJ9oqqY3EO</td>\n",
       "      <td>[]</td>\n",
       "      <td>buysellshort</td>\n",
       "      <td>1.324739e+18</td>\n",
       "    </tr>\n",
       "  </tbody>\n",
       "</table>\n",
       "</div>"
      ],
      "text/plain": [
       "   topic_0  topic_1  topic_2   topic_3   topic_4   topic_5  \\\n",
       "0      0.0      0.0      0.0  0.002763  0.031824  0.002887   \n",
       "1      0.0      0.0      0.0  0.000000  0.000000  0.000000   \n",
       "2      0.0      0.0      0.0  0.032559  0.014849  0.000787   \n",
       "3      0.0      0.0      0.0  0.003789  0.030600  0.003233   \n",
       "4      0.0      0.0      0.0  0.000000  0.000000  0.000000   \n",
       "\n",
       "                                          raw_tweets  \\\n",
       "0  $JAKK $5 break scanner squeeze retailer mania ...   \n",
       "1                      $WTER https://t.co/JVc3CjcG3h   \n",
       "2  $SXTC china pennies on fire today 50% upside o...   \n",
       "3  $SNDL add this vol i see those late day chaser...   \n",
       "4                      $SNDL https://t.co/BJ9oqqY3EO   \n",
       "\n",
       "                                        clean_tweets      username  \\\n",
       "0  ['break', 'scanner', 'squeeze', 'retailer', 'm...  buysellshort   \n",
       "1                                                 []  buysellshort   \n",
       "2   ['china', 'pennies', 'today', 'upside', 'chart']  buysellshort   \n",
       "3  ['add', 'vol', 'late', 'day', 'chasers', 'comi...  buysellshort   \n",
       "4                                                 []  buysellshort   \n",
       "\n",
       "       tweet_id  \n",
       "0  1.325833e+18  \n",
       "1  1.324724e+18  \n",
       "2  1.324393e+18  \n",
       "3  1.324449e+18  \n",
       "4  1.324739e+18  "
      ]
     },
     "execution_count": 13,
     "metadata": {},
     "output_type": "execute_result"
    }
   ],
   "source": [
    "tweet_topic_matrix_df = pd.DataFrame(tweet_topic_matrix).add_prefix('topic_')\n",
    "\n",
    "tweet_topic_matrix_df[['raw_tweets', 'clean_tweets', 'username', 'tweet_id']] = df[['tweet', 'tokens', 'screen_name','tweet_id']]\n",
    "tweet_topic_matrix_df.head()"
   ]
  },
  {
   "cell_type": "markdown",
   "metadata": {},
   "source": [
    "#### Word/Topic Matrix"
   ]
  },
  {
   "cell_type": "code",
   "execution_count": 14,
   "metadata": {},
   "outputs": [
    {
     "data": {
      "text/html": [
       "<div>\n",
       "<style scoped>\n",
       "    .dataframe tbody tr th:only-of-type {\n",
       "        vertical-align: middle;\n",
       "    }\n",
       "\n",
       "    .dataframe tbody tr th {\n",
       "        vertical-align: top;\n",
       "    }\n",
       "\n",
       "    .dataframe thead th {\n",
       "        text-align: right;\n",
       "    }\n",
       "</style>\n",
       "<table border=\"1\" class=\"dataframe\">\n",
       "  <thead>\n",
       "    <tr style=\"text-align: right;\">\n",
       "      <th></th>\n",
       "      <th>topic_0</th>\n",
       "      <th>topic_1</th>\n",
       "      <th>topic_2</th>\n",
       "      <th>topic_3</th>\n",
       "      <th>topic_4</th>\n",
       "      <th>topic_5</th>\n",
       "    </tr>\n",
       "  </thead>\n",
       "  <tbody>\n",
       "    <tr>\n",
       "      <th>____</th>\n",
       "      <td>0.0</td>\n",
       "      <td>0.000000</td>\n",
       "      <td>0.0</td>\n",
       "      <td>0.000000</td>\n",
       "      <td>0.000098</td>\n",
       "      <td>0.000000</td>\n",
       "    </tr>\n",
       "    <tr>\n",
       "      <th>______</th>\n",
       "      <td>0.0</td>\n",
       "      <td>0.000000</td>\n",
       "      <td>0.0</td>\n",
       "      <td>0.000000</td>\n",
       "      <td>0.000000</td>\n",
       "      <td>0.000000</td>\n",
       "    </tr>\n",
       "    <tr>\n",
       "      <th>_______</th>\n",
       "      <td>0.0</td>\n",
       "      <td>0.000000</td>\n",
       "      <td>0.0</td>\n",
       "      <td>0.000015</td>\n",
       "      <td>0.000103</td>\n",
       "      <td>0.000118</td>\n",
       "    </tr>\n",
       "    <tr>\n",
       "      <th>__________________________________________</th>\n",
       "      <td>0.0</td>\n",
       "      <td>0.000000</td>\n",
       "      <td>0.0</td>\n",
       "      <td>0.000000</td>\n",
       "      <td>0.000172</td>\n",
       "      <td>0.000000</td>\n",
       "    </tr>\n",
       "    <tr>\n",
       "      <th>_curtiscameron</th>\n",
       "      <td>0.0</td>\n",
       "      <td>0.000062</td>\n",
       "      <td>0.0</td>\n",
       "      <td>0.000000</td>\n",
       "      <td>0.000194</td>\n",
       "      <td>0.000000</td>\n",
       "    </tr>\n",
       "  </tbody>\n",
       "</table>\n",
       "</div>"
      ],
      "text/plain": [
       "                                            topic_0   topic_1  topic_2  \\\n",
       "____                                            0.0  0.000000      0.0   \n",
       "______                                          0.0  0.000000      0.0   \n",
       "_______                                         0.0  0.000000      0.0   \n",
       "__________________________________________      0.0  0.000000      0.0   \n",
       "_curtiscameron                                  0.0  0.000062      0.0   \n",
       "\n",
       "                                             topic_3   topic_4   topic_5  \n",
       "____                                        0.000000  0.000098  0.000000  \n",
       "______                                      0.000000  0.000000  0.000000  \n",
       "_______                                     0.000015  0.000103  0.000118  \n",
       "__________________________________________  0.000000  0.000172  0.000000  \n",
       "_curtiscameron                              0.000000  0.000194  0.000000  "
      ]
     },
     "execution_count": 14,
     "metadata": {},
     "output_type": "execute_result"
    }
   ],
   "source": [
    "word_topic_matrix_df = pd.DataFrame(nmf.components_, columns=vocab).T.add_prefix('topic_')\n",
    "word_topic_matrix_df.head()"
   ]
  },
  {
   "cell_type": "markdown",
   "metadata": {},
   "source": [
    "## Topic Interpretation"
   ]
  },
  {
   "cell_type": "markdown",
   "metadata": {},
   "source": [
    "#### For topic_0 lets find the tweets that have the highest expression"
   ]
  },
  {
   "cell_type": "code",
   "execution_count": 20,
   "metadata": {},
   "outputs": [
    {
     "name": "stdout",
     "output_type": "stream",
     "text": [
      "https://t.co/UOZoAUU2V2 - Posted a New Watchlist: 12 Hot Stocks To Watch Like $BLFS And $NFEC\n",
      "\n",
      "https://t.co/D4otdtyLz0 - Posted a New Watchlist: 10 Hot Stocks To Watch Like $AYTU\n",
      "\n",
      "https://t.co/nnTgYv9q50 - Posted a New Watchlist: 8 Hot Stocks To Watch Like $CYDY\n",
      "\n",
      "https://t.co/v4hkcFoeFv - Posted a New Watchlist: 12 Hot Stocks To Watch Like $NIHD\n",
      "\n",
      "https://t.co/YVAbymvxh5 - Posted a New Watchlist: 13 Hot Stocks To Watch Like $CERU And $DFFN\n",
      "\n",
      "https://t.co/KtfgwX9U72 - Posted a New Watchlist: 15 Hot Stocks To Watch Like $GPMT\n",
      "\n",
      "https://t.co/OMLNvB8jRJ - Posted a New Watchlist: 17 Hot Stocks To Watch Like $ASTC\n",
      "\n",
      "https://t.co/RLWLYo8v23 - Posted a New Watchlist: 8 Hot Stocks To Watch Like $KNOS\n",
      "\n",
      "https://t.co/nuzjCLs70U - Posted a New Watchlist: 13 Hot Stocks To Watch Like $DECN\n",
      "\n",
      "https://t.co/Zs8GlYMOco - Posted a New Watchlist: 15 Hot Stocks To Watch Like $IEGH\n",
      "\n"
     ]
    }
   ],
   "source": [
    "for tweet in tweet_topic_matrix_df.sort_values(by='topic_1', ascending=False).head(10)['raw_tweets'].values:\n",
    "    print(tweet)\n",
    "    print()"
   ]
  },
  {
   "cell_type": "code",
   "execution_count": 12,
   "metadata": {},
   "outputs": [],
   "source": [
    "def top_tweets(tweet_topic_matrix_df, topic, n_tweets):\n",
    "    return (tweet_topic_matrix_df\n",
    "            .sort_values(by=topic, ascending=False)\n",
    "            .head(n_tweets)['raw_tweets']\n",
    "            .values)"
   ]
  },
  {
   "cell_type": "code",
   "execution_count": 13,
   "metadata": {},
   "outputs": [
    {
     "name": "stdout",
     "output_type": "stream",
     "text": [
      "The most popular terms for Topic 0 are:\n",
      " ['realtime', 'track', 'alerts', 'record', 'amp', 'profit', 'lists', 'daily', 'watch', 'ago'] \n",
      " and a sample tweet is\n",
      " ['https://t.co/lUhx1prjuW $433 profit $EFUT See my track record daily watch lists &amp; realtime alerts: https://t.co/vuP7BD5Yco'] \n",
      "\n",
      "The most popular terms for Topic 1 are:\n",
      " ['watchlist', 'hot', 'stocks', 'like', 'posted', 'watch', 'new', 'video', 'lesson', 'tomorrow'] \n",
      " and a sample tweet is\n",
      " ['https://t.co/UOZoAUU2V2 - Posted a New Watchlist: 12 Hot Stocks To Watch Like $BLFS And $NFEC'] \n",
      "\n",
      "The most popular terms for Topic 2 are:\n",
      " ['webinar', 'challenge', 'demand', 'new', 'posted', 'lesson', 'video', 'lessons', 'reviewing', 'live'] \n",
      " and a sample tweet is\n",
      " ['https://t.co/mRRBr23rJN - Posted a New Webinar: Challenge Webinar 1-21 [On Demand] $MNKD $ZFGN $XLIT'] \n",
      "\n",
      "The most popular terms for Topic 3 are:\n",
      " ['breakout', 'chart', 'target', 'nice', 'watch', 'break', 'day', 'notes', 'big', 'imo'] \n",
      " and a sample tweet is\n",
      " ['$app CHART BREAKOUT $1.01...http://bit.ly/pYxiSb'] \n",
      "\n",
      "The most popular terms for Topic 4 are:\n",
      " ['learn', 'nice', 'buy', 'today', 'peeps', 'day', 'stock', 'trade', 'great', 'week'] \n",
      " and a sample tweet is\n",
      " ['http://t.co/jdrKsJXDWe Nice 1st http://t.co/fljCJN9sHY trade today learn $FB $TWTR $LNKD peeps'] \n",
      "\n",
      "The most popular terms for Topic 5 are:\n",
      " ['added', 'bounce', 'run', 'target', 'imo', 'break', 'dip', 'bio', 'vol', 'area'] \n",
      " and a sample tweet is\n",
      " ['added some more $NEI $1.30'] \n",
      "\n"
     ]
    }
   ],
   "source": [
    "for topic in range(0,6):\n",
    "    terms = list(word_topic_matrix_df.sort_values(by=f'topic_{topic}', ascending=False).head(10).index.values)\n",
    "    sample_tweet = top_tweets(tweet_topic_matrix_df, f'topic_{topic}', 1)\n",
    "    print(f'The most popular terms for Topic {topic} are:\\n', terms,'\\n and a sample tweet is\\n', sample_tweet, '\\n')"
   ]
  },
  {
   "cell_type": "markdown",
   "metadata": {},
   "source": [
    "<b>Topic 0</b> can best be defined as <b>Self-Marketing.</b><br>\n",
    "<b>Topic 1</b> can best be defined as <b>Future Movers.</b><br>\n",
    "<b>Topic 2</b> can best be defined as <b>Free Resources.</b><br>\n",
    "<b>Topic 3</b> can best be defined as <b>Immediate Stock Alerts.</b><br>\n",
    "<b>Topic 4</b> can best be defined as <b>Beginner Education(?)</b><br>\n",
    "<b>Topic 5</b> can best be defined as <b>Personal Action Alert.</b><br>"
   ]
  },
  {
   "cell_type": "code",
   "execution_count": null,
   "metadata": {},
   "outputs": [],
   "source": []
  },
  {
   "cell_type": "code",
   "execution_count": 14,
   "metadata": {
    "scrolled": true
   },
   "outputs": [
    {
     "data": {
      "text/plain": [
       "topic_0    0.000435\n",
       "topic_1    0.001315\n",
       "topic_2    0.000332\n",
       "topic_3    0.000483\n",
       "topic_4    0.015390\n",
       "topic_5    0.001158\n",
       "Name: AlexDelarge6553, dtype: float64"
      ]
     },
     "execution_count": 14,
     "metadata": {},
     "output_type": "execute_result"
    }
   ],
   "source": [
    "tweet_topic_matrix_df.groupby('username').mean().iloc[0]"
   ]
  },
  {
   "cell_type": "code",
   "execution_count": 15,
   "metadata": {},
   "outputs": [],
   "source": [
    "topics_by_user = tweet_topic_matrix_df.groupby('username').mean()\n",
    "topics_by_user = topics_by_user.reset_index()"
   ]
  },
  {
   "cell_type": "code",
   "execution_count": 16,
   "metadata": {},
   "outputs": [
    {
     "data": {
      "text/html": [
       "<div>\n",
       "<style scoped>\n",
       "    .dataframe tbody tr th:only-of-type {\n",
       "        vertical-align: middle;\n",
       "    }\n",
       "\n",
       "    .dataframe tbody tr th {\n",
       "        vertical-align: top;\n",
       "    }\n",
       "\n",
       "    .dataframe thead th {\n",
       "        text-align: right;\n",
       "    }\n",
       "</style>\n",
       "<table border=\"1\" class=\"dataframe\">\n",
       "  <thead>\n",
       "    <tr style=\"text-align: right;\">\n",
       "      <th></th>\n",
       "      <th>username</th>\n",
       "      <th>topic_0</th>\n",
       "      <th>topic_1</th>\n",
       "      <th>topic_2</th>\n",
       "      <th>topic_3</th>\n",
       "      <th>topic_4</th>\n",
       "      <th>topic_5</th>\n",
       "    </tr>\n",
       "  </thead>\n",
       "  <tbody>\n",
       "    <tr>\n",
       "      <th>0</th>\n",
       "      <td>AlexDelarge6553</td>\n",
       "      <td>0.000435</td>\n",
       "      <td>0.001315</td>\n",
       "      <td>0.000332</td>\n",
       "      <td>0.000483</td>\n",
       "      <td>0.015390</td>\n",
       "      <td>0.001158</td>\n",
       "    </tr>\n",
       "    <tr>\n",
       "      <th>1</th>\n",
       "      <td>StockLizardKing</td>\n",
       "      <td>0.000435</td>\n",
       "      <td>0.001171</td>\n",
       "      <td>0.000449</td>\n",
       "      <td>0.001035</td>\n",
       "      <td>0.008233</td>\n",
       "      <td>0.001687</td>\n",
       "    </tr>\n",
       "    <tr>\n",
       "      <th>2</th>\n",
       "      <td>alexcutler247</td>\n",
       "      <td>0.001198</td>\n",
       "      <td>0.001117</td>\n",
       "      <td>0.000203</td>\n",
       "      <td>0.000841</td>\n",
       "      <td>0.009800</td>\n",
       "      <td>0.000837</td>\n",
       "    </tr>\n",
       "    <tr>\n",
       "      <th>3</th>\n",
       "      <td>buysellshort</td>\n",
       "      <td>0.000811</td>\n",
       "      <td>0.002297</td>\n",
       "      <td>0.000287</td>\n",
       "      <td>0.012176</td>\n",
       "      <td>0.010142</td>\n",
       "      <td>0.008883</td>\n",
       "    </tr>\n",
       "    <tr>\n",
       "      <th>4</th>\n",
       "      <td>simbatrading</td>\n",
       "      <td>0.000524</td>\n",
       "      <td>0.001493</td>\n",
       "      <td>0.000213</td>\n",
       "      <td>0.002597</td>\n",
       "      <td>0.012189</td>\n",
       "      <td>0.004472</td>\n",
       "    </tr>\n",
       "    <tr>\n",
       "      <th>5</th>\n",
       "      <td>timothysykes</td>\n",
       "      <td>0.010922</td>\n",
       "      <td>0.008857</td>\n",
       "      <td>0.006684</td>\n",
       "      <td>0.000651</td>\n",
       "      <td>0.018907</td>\n",
       "      <td>0.000134</td>\n",
       "    </tr>\n",
       "  </tbody>\n",
       "</table>\n",
       "</div>"
      ],
      "text/plain": [
       "          username   topic_0   topic_1   topic_2   topic_3   topic_4   topic_5\n",
       "0  AlexDelarge6553  0.000435  0.001315  0.000332  0.000483  0.015390  0.001158\n",
       "1  StockLizardKing  0.000435  0.001171  0.000449  0.001035  0.008233  0.001687\n",
       "2    alexcutler247  0.001198  0.001117  0.000203  0.000841  0.009800  0.000837\n",
       "3     buysellshort  0.000811  0.002297  0.000287  0.012176  0.010142  0.008883\n",
       "4     simbatrading  0.000524  0.001493  0.000213  0.002597  0.012189  0.004472\n",
       "5     timothysykes  0.010922  0.008857  0.006684  0.000651  0.018907  0.000134"
      ]
     },
     "execution_count": 16,
     "metadata": {},
     "output_type": "execute_result"
    }
   ],
   "source": [
    "topics_by_user"
   ]
  },
  {
   "cell_type": "code",
   "execution_count": 17,
   "metadata": {},
   "outputs": [],
   "source": [
    "topics_by_user.to_csv('files_1.csv')\n",
    "visualization = pd.read_csv('data/files.csv')"
   ]
  },
  {
   "cell_type": "code",
   "execution_count": 18,
   "metadata": {
    "scrolled": false
   },
   "outputs": [
    {
     "data": {
      "image/png": "[encoded data removed]",
      "text/plain": [
       "<Figure size 936x792 with 1 Axes>"
      ]
     },
     "metadata": {
      "needs_background": "light"
     },
     "output_type": "display_data"
    }
   ],
   "source": [
    "fig, ax = plt.subplots(figsize=(13,11))\n",
    "\n",
    "\n",
    "ax = sns.barplot(x='value', y='username', hue='topic', data=visualization, palette = 'rocket', orient='h')\n",
    "sns.set_theme(font='Helvetica')\n",
    "ax.set(xlabel='common xlabel', ylabel='common ylabel')\n",
    "ax.set_xscale('log')\n",
    "ax.set_title('\\nTopic Distribution by Username\\n', fontsize = 24)\n",
    "ax.set_ylabel('Username', fontsize=16, rotation=90, labelpad=35)\n",
    "ax.set_xlabel('Topic Coorelation', fontsize=16, rotation=0, labelpad=15)\n",
    "plt.yticks(fontsize=14)\n",
    "legend = plt.legend(bbox_to_anchor=(-.25, 1.2), loc=2, borderaxespad=0, fontsize=12)\n",
    "ax.spines['right'].set_visible(False)\n",
    "ax.spines['top'].set_visible(False)\n",
    "ax.spines['bottom'].set_visible(False)\n",
    "ax.spines['left'].set_visible(False)\n",
    "frame = legend.get_frame()\n",
    "frame.set_facecolor('white')\n",
    "\n",
    "plt.tight_layout()\n",
    "\n",
    "plt.savefig(f'images/topic_by_username');"
   ]
  },
  {
   "cell_type": "markdown",
   "metadata": {},
   "source": [
    "Topic 0 can best be defined as Self-Marketing.\n",
    "Topic 1 can best be defined as Future Movers.\n",
    "Topic 2 can best be defined as Free Resources.\n",
    "Topic 3 can best be defined as Immediate Stock Alerts.\n",
    "Topic 4 can best be defined as Beginner Education(?)\n",
    "Topic 5 can best be defined as Personal Action Alert."
   ]
  },
  {
   "cell_type": "code",
   "execution_count": 16,
   "metadata": {},
   "outputs": [],
   "source": [
    "def top_tweets(tweet_topic_matrix_df, topic, n_tweets):\n",
    "    return (tweet_topic_matrix_df\n",
    "            .sort_values(by=topic, ascending=False)\n",
    "            .head(n_tweets)['raw_tweets']\n",
    "            .values)\n",
    "\n",
    "def random_tweets(tweet_topic_matrix_df, topic, n_tweets):\n",
    "    return (tweet_topic_matrix_df[tweet_topic_matrix_df[topic]>.001]\n",
    "            .sample(n_tweets)['raw_tweets']\n",
    "            .values)\n",
    "\n",
    "def top_words(word_topic_matrix_df, topic, n_words):\n",
    "    return (word_topic_matrix_df\n",
    "            .sort_values(by=topic, ascending=False)\n",
    "            .head(n_words))[topic]"
   ]
  },
  {
   "cell_type": "code",
   "execution_count": 40,
   "metadata": {},
   "outputs": [
    {
     "name": "stdout",
     "output_type": "stream",
     "text": [
      "my last post on $BSDM for awhile the 350k buyer at .25 last week knows something imo...avg joe investor doesn't pony up $90k in the .20's\n",
      "\n",
      "$CLSH this pr was the tell-tale sign back on June 7. Insiders took shares at .25 when it was trading at .10 https://t.co/0uyeArUHHs\n",
      "\n",
      "$DARA blowin up - $GTXI ph 2 peer\n",
      "\n",
      "$FCEL bouncer play buy the beaten down plays for easy gains next few days imo\n",
      "\n",
      "added $GSAT 1.36\n",
      "\n",
      "https://t.co/NH7ds9gELK One more time $WWR\n",
      "\n",
      "@MrZackMorris $DCAR 1/3 float of $BURG Gonna be a 🚀\n",
      "\n",
      "@dragonfirestock $ASUV pullback from .27 highs yesterday is on 80k shares now...low floater 101\n",
      "\n",
      "$PUGE gonna be huge imo gonna make today's $CHIT trade look like child's play\n",
      "\n",
      "$ESCR chart 25-50% on this 32c break  http://t.co/WqI4MeoJ2L\n",
      "\n",
      "$SCOK - low float coal stock bullish positive MACD cross triggered http://t.co/innoXvGXUw\n",
      "\n",
      "$DPTR small oil stock looks ready to explode to $1's\n",
      "\n",
      "Who dont like $jada!! https://t.co/GacesBvKhO\n",
      "\n",
      "$NURO got foot in door with Walmart pretty big imo bottom chart loaded with cash and $WMT see ya over $1\n",
      "\n",
      "@i_like_bb_stock $VLNX holding Tuesday's move and consolidating nicely this may have legs next week\n",
      "\n",
      "lookin for $2.20_ on $DRL break of $2 tomorrow\n",
      "\n",
      "@VendbienJon $APTY \"pullback\" on 300k shares from hod lol....trend in tact\n",
      "\n",
      "$EMKR here we go 2c scalpers all out time for new highs\n",
      "\n",
      "$RGDO another home run win for subscribers  https://t.co/kmEYss8KIL\n",
      "\n",
      "added to $FEED position $1.05 break sets it free\n",
      "\n",
      "$API 3d stock 66c target 75c then 87c http://t.co/Y1HaS3B8zd\n",
      "\n",
      "$ORS that is one incredible run for that cell phone maker\n",
      "\n",
      "$HIMX $2.10 then $2.20 targets http://t.co/b2uULbOq\n",
      "\n",
      "adding $QBC - this oil under $1 is a steal imo\n",
      "\n",
      "EXTREMELY LOW VOLUME $TSLA(THIS IS A JOKE THERE IS LITERALLY NO VOLUME ON THE STREAM)\n",
      "\n",
      "@FunnyPennyStock $VPRO bull flag accum past three days chart break now\n",
      "\n",
      "@adamfarl $MCZ is a $5+ stock imo NVAX we have a 2 catlysts this week Bio Ceo tomorrow and WHO conf on thurs\n",
      "\n",
      "@speculatore $THST damn no shares available if algo's come for this one look out\n",
      "\n",
      "lets get this $vrus im gonna have to add some! https://t.co/n0xuWllAXq\n",
      "\n",
      "$RGSE gonna go big on 40c break here on this chart\n",
      "\n",
      "@jruff84 i added more $PESI and will ride it out does this late every day then runs in the mornin\n",
      "\n",
      "$APP $2.12 our $2.10 1st target hit in a day nice!\n",
      "\n",
      "http://t.co/pqRpZZcrYg Dip buying this stock $FB $TWTR $LNKD peeps\n",
      "\n",
      "$PLUG -what a NICE breakout here added more 63c with 80c 1st target http://t.co/3NwvNVDiqp\n",
      "\n",
      "@FPSpremium $VRPO ready here...3days rest from last Friday move\n",
      "\n",
      "@petedoom shipper $ rotating to china's next imo $CHNR started it.... $CCCL will run as well\n",
      "\n",
      "$TMPS if it takes Monday highs...all bets are off\n",
      "\n",
      "$ASTI chart $1 break gives $1.22  http://t.co/FBbDvi46RY\n",
      "\n",
      "$UPIP last 12 years has run 28% on avg into mid January\n",
      "\n",
      "$DSCO watch for late day run imo back to $2.60's\n",
      "\n",
      "$MBOT $BIOC $VVUS low float bio's .... give me a 1 million share day in $ALRN .... see what happens\n",
      "\n",
      "$AVGR nice vol this is how $LINU started\n",
      "\n",
      "$GGR INDIA oil play nice momo in oil AND indian stocks\n",
      "\n",
      "$GLD at head n shoulders breakdown area $20 downside on breakdown\n",
      "\n",
      "@redhairedminxx So much more coming!! $dsgt https://t.co/oo51uN0V7b\n",
      "\n",
      "in some $VBIV 2.70's on ebola momo low floater\n",
      "\n",
      "@PatentlyAbsurd $XOMA sees $1.50+ tomorrow imo\n",
      "\n",
      "@leopoldtrader73 also with bio's on fire $TTHI is the only low float Baker Bro's stock I can find remember $AQXP when they announced stake\n",
      "\n",
      "$2.33-50 target on $COOL on New Jersey news and low float chart\n",
      "\n",
      "$NCTY scanners  NCTY post split low float has yet to have its split run. $CHFS running today. They both did the r/s on the same day. NCTY could see a nice pop here on the CHFS move. 20 day ema is $3.12. This was $11 last month on news.\n",
      "\n",
      "$ONTY cancer bio seeking alpha chart breakout area too\n",
      "\n",
      "$OXGN $4.25 target hit plus some\n",
      "\n",
      "@IncredibleTrade $SGLB news with Honeywell out https://t.co/Dpb3kl58Dr low 4 mill float\n",
      "\n",
      "$GEVO ya baby home run for the guys in our chat!!!!!!!!! trying some $RCPI now under 17c\n",
      "\n",
      "$BHAT sheesh...looks like they walked\n",
      "\n",
      "took 60% profit on $AXN today at 2.72 from 1.70 buys last month....looking to add more $KBIO\n",
      "\n",
      "$SPAQ Options Chain is up. Looks like options are really coming today. https://t.co/urQ3lHeFNg\n",
      "\n",
      "@i_like_bb_stock see if $NESV doesn't break out in power hour it's close\n",
      "\n",
      "solars rippin again $HSOL $2 target hittin $ASTI coiledddddddddddddddd\n",
      "\n",
      "Everyone looking for $AWX shares to short should sing https://t.co/HoRd7BN7Sp\n",
      "\n",
      "Retweet/favorite this if you're ready for the new week &amp; will look to capitalize on this awesome $SPU $OPTT $KONE low float craze!\n",
      "\n",
      "$IMSC china news\n",
      "\n",
      "$EGHT woefully undervalued imo gem down here in the $1.20's. sell $1.40-50... FREE VIDEO NEWS http://bit.ly/cWUu8f\n",
      "\n",
      "$PEIX 50c break with converts gone could see a ncie move back to $1 near term\n",
      "\n",
      "@FunnyPennyStock @BigCheds $CJTF 47 mill cross trade this morn at .0007 new 52 week low...ready for bounce now\n",
      "\n",
      "$ASTI watch this baby CLOSE imo $1 break this romps imo\n",
      "\n",
      "@yorikgarden @kyyllleeeerrrrr $aapl best stock to own more cash than any company. just a dip 200 pps by feb 15th 4th qtr earning\n",
      "\n",
      "added more $SIRI on $2 breakout $2.20 target\n",
      "\n",
      "@TopStockTiger @teacuppiglets $NUVI 20 million float if it gets vol all bets are off\n",
      "\n",
      "Added 120k shares of $spom the highlight today1) $spom + 1%always the best 2) $hdii +4% 3) $trep -22%4) $tptw -30%5) $inqd -11 %6) $axxa -9%7) $adgs -14 %Glad the top 2 are 75% of porfolio and special thanks to the $vrus crew -13% with style silence is golden good night! https://t.co/DhyKjfVEgj\n",
      "\n",
      "tax play $JTX chart breakout here $1.26 could see a fat run like $ZBB\n",
      "\n",
      "$NTN lookin great\n",
      "\n",
      "still holding all $WPCS shares from last week this will be $3+ soon\n",
      "\n",
      "I love dip buys! https://t.co/OW6typFUQZ but it's important you understand when you should dip buy vs. when you shouldn't $FB $TWTR\n",
      "\n",
      "$PPHM 1st of our January Popper watch plays to run big 47% winner so far $BNVI January Popper play\n",
      "\n",
      "$ANDS another bio blowin up\n",
      "\n",
      "$FCEL double bottom play to watch for 10% bounce this week\n",
      "\n",
      "$WRFX 100 mill A/S and insiders own 30% of the unknown float...company tweets pr's coming...these type don't come along very often\n",
      "\n",
      "$GMXR $1 break should give a nice pop\n",
      "\n",
      "@ferdnerd $MCZ is $5 in 2011 imo\n",
      "\n",
      "@MountainTrades $GOFF unknown mj to this point thin one...once masses find it could have % gains like your MNTR gold mine years ago...imo\n",
      "\n",
      "@simbatrading $KBSF sold .63-.65 area nice winner #patience\n",
      "\n",
      "@easymoneyoc $GENE has right size float here to do really large move\n",
      "\n",
      "$enzn had to stop on the lod break right after entry even though knew it would bounce in this slop u just never know when the bots tank\n",
      "\n",
      "$VRNG and $MOBI ones to watch imo\n",
      "\n",
      "$ACLS big bounce today $NEI will do the same near term imo\n",
      "\n",
      "$MTSL profitable e report next week\n",
      "\n",
      "$ACHV doubles.... $RGLS the only cash rich bio that hasnt had a large move yet\n",
      "\n",
      "@speculatore @speculatore been on fire with these low floats under $1...definite follow if you aren't already $PZRX\n",
      "\n",
      "$USEG i'd tell shorts to make sure they are aware of the float...but I honestly want would like a bunch of shorts in this one in the $6-$7 range\n",
      "\n",
      "added $HSOL 93c solar breaking out here\n",
      "\n",
      "liking $COOL for run into its earngins next week off this big pop in $GLUU mobile games HOT\n",
      "\n",
      "accumulating $SMH June $29 calls and $SPY June $117 calls for a bounce in next 2 weeks SMALL positions to be added... http://bit.ly/ccRYLj\n",
      "\n",
      "we are always the first in chart and targets ..here is $RNN post from last week https://t.co/Zz1AFMmEmw\n",
      "\n",
      "even bk china solar $STP up 20% now\n",
      "\n",
      "$PWAV KABOOOM $1.60 target hit from buy list!\n",
      "\n",
      "in $CGA china stocks strong and this profitable co setting up nicely here\n",
      "\n",
      "$INO has three flu trials nice retrace from the early week pop. Bounce with flu sector strenght\n",
      "\n",
      "$CLNT $2.55 target hit from $2 call yesterday in chat! KABOOOOOOOOOOOOOOOOOOM\n",
      "\n",
      "if turd $SVNT can run 100% traders will chase up $ANTH soon\n",
      "\n"
     ]
    }
   ],
   "source": [
    "for tweet in random_tweets(tweet_topic_matrix_df, 'topic_5', 100):\n",
    "    print(tweet)\n",
    "    print()"
   ]
  },
  {
   "cell_type": "code",
   "execution_count": 39,
   "metadata": {},
   "outputs": [
    {
     "data": {
      "text/plain": [
       "added       4.096760\n",
       "bounce      0.408371\n",
       "run         0.280919\n",
       "target      0.254680\n",
       "imo         0.197885\n",
       "break       0.162104\n",
       "dip         0.158227\n",
       "bio         0.148155\n",
       "vol         0.137328\n",
       "area        0.130947\n",
       "avg         0.130883\n",
       "low         0.115604\n",
       "shares      0.097260\n",
       "position    0.095769\n",
       "lookin      0.092815\n",
       "big         0.082621\n",
       "float       0.072761\n",
       "targets     0.071858\n",
       "pop         0.068521\n",
       "play        0.063530\n",
       "chart       0.059391\n",
       "like        0.058208\n",
       "week        0.054769\n",
       "coming      0.053830\n",
       "mkt         0.053764\n",
       "Name: topic_5, dtype: float64"
      ]
     },
     "execution_count": 39,
     "metadata": {},
     "output_type": "execute_result"
    }
   ],
   "source": [
    "top_words(word_topic_matrix_df, 'topic_5', 25)"
   ]
  },
  {
   "cell_type": "markdown",
   "metadata": {},
   "source": [
    "Topic 1 is emojiness"
   ]
  },
  {
   "cell_type": "code",
   "execution_count": 78,
   "metadata": {
    "scrolled": true
   },
   "outputs": [
    {
     "data": {
      "text/plain": [
       "webinar      3.817822\n",
       "challenge    1.954101\n",
       "demand       1.936385\n",
       "new          1.707057\n",
       "posted       1.699948\n",
       "lesson       0.337854\n",
       "video        0.325091\n",
       "lessons      0.065764\n",
       "reviewing    0.060501\n",
       "live         0.056401\n",
       "Name: topic_2, dtype: float64"
      ]
     },
     "execution_count": 78,
     "metadata": {},
     "output_type": "execute_result"
    }
   ],
   "source": [
    "top_words(word_topic_matrix_df, 'topic_2', 10)"
   ]
  },
  {
   "cell_type": "markdown",
   "metadata": {},
   "source": [
    "Topic 2 I will do your hw for money topic"
   ]
  }
 ],
 "metadata": {
  "kernelspec": {
   "display_name": "Python 3",
   "language": "python",
   "name": "python3"
  },
  "language_info": {
   "codemirror_mode": {
    "name": "ipython",
    "version": 3
   },
   "file_extension": ".py",
   "mimetype": "text/x-python",
   "name": "python",
   "nbconvert_exporter": "python",
   "pygments_lexer": "ipython3",
   "version": "3.8.5"
  }
 },
 "nbformat": 4,
 "nbformat_minor": 4
}
